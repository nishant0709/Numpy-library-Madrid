{
 "cells": [
  {
   "cell_type": "code",
   "execution_count": 2,
   "id": "97c20b01-41ad-447d-9da0-69c647b1debd",
   "metadata": {},
   "outputs": [
    {
     "name": "stdout",
     "output_type": "stream",
     "text": [
      "bool\n",
      "[ True  True False  True]\n"
     ]
    }
   ],
   "source": [
    "import numpy as np\n",
    "a=np.array([1,2,0,7],dtype=bool)\n",
    "print(a.dtype)\n",
    "print(a)"
   ]
  },
  {
   "cell_type": "code",
   "execution_count": 3,
   "id": "86f87aca-23b3-4e47-98a3-3aa7f3c6a962",
   "metadata": {},
   "outputs": [
    {
     "name": "stdout",
     "output_type": "stream",
     "text": [
      "[[1 2]\n",
      " [3 4]]\n"
     ]
    }
   ],
   "source": [
    "#more than one dimensions\n",
    "a=np.array([[1,2],[3,4]])\n",
    "print(a)"
   ]
  },
  {
   "cell_type": "code",
   "execution_count": 4,
   "id": "abefb616-507a-4cae-97ef-8482f468d221",
   "metadata": {},
   "outputs": [
    {
     "name": "stdout",
     "output_type": "stream",
     "text": [
      "[[[1 2 3 7 9]]]\n"
     ]
    }
   ],
   "source": [
    "#minimum dimension\n",
    "a=np.array([1,2,3,7,9],ndmin=3)\n",
    "print(a)"
   ]
  },
  {
   "cell_type": "code",
   "execution_count": 5,
   "id": "84ed1445-6f45-4454-abe7-184039a0e261",
   "metadata": {},
   "outputs": [
    {
     "name": "stdout",
     "output_type": "stream",
     "text": [
      "[1.+0.j 2.+0.j 3.+0.j]\n"
     ]
    }
   ],
   "source": [
    "#dtype parameter\n",
    "a=np.array([1,2,3],dtype=complex)\n",
    "print(a)"
   ]
  },
  {
   "cell_type": "code",
   "execution_count": 104,
   "id": "f252fdad-1222-49f1-9866-e2e262c874bc",
   "metadata": {},
   "outputs": [
    {
     "name": "stdout",
     "output_type": "stream",
     "text": [
      "int32\n"
     ]
    }
   ],
   "source": [
    "#using array-scalar type\n",
    "dt=np.dtype(np.int32)\n",
    "print(dt)"
   ]
  },
  {
   "cell_type": "code",
   "execution_count": 106,
   "id": "8f211cae-d0c9-4a12-97e2-ff79f26602ed",
   "metadata": {},
   "outputs": [
    {
     "name": "stdout",
     "output_type": "stream",
     "text": [
      "int32\n"
     ]
    }
   ],
   "source": [
    "x=np.array([12])\n",
    "print(x.dtype)"
   ]
  },
  {
   "cell_type": "code",
   "execution_count": 8,
   "id": "30d92482-33f1-45c6-9723-e105e3f7f84e",
   "metadata": {},
   "outputs": [
    {
     "name": "stdout",
     "output_type": "stream",
     "text": [
      "float64\n"
     ]
    }
   ],
   "source": [
    "x=np.array([12.20])\n",
    "print(x.dtype)"
   ]
  },
  {
   "cell_type": "code",
   "execution_count": 9,
   "id": "c854de0a-e0f2-4d04-be70-609457b34fd8",
   "metadata": {},
   "outputs": [
    {
     "name": "stdout",
     "output_type": "stream",
     "text": [
      "int64\n"
     ]
    }
   ],
   "source": [
    "dt=np.dtype('i8')\n",
    "print(dt)"
   ]
  },
  {
   "cell_type": "code",
   "execution_count": 10,
   "id": "f1ae809c-3349-4876-aa76-fb44ee1f074f",
   "metadata": {},
   "outputs": [
    {
     "name": "stdout",
     "output_type": "stream",
     "text": [
      "(2, 3)\n"
     ]
    }
   ],
   "source": [
    "#ndarray.shape--to know row column\n",
    "a=np.array([[1,2,3],[4,5,6]])\n",
    "print(a.shape)"
   ]
  },
  {
   "cell_type": "code",
   "execution_count": 111,
   "id": "dfc3f5f9-921b-4f2f-9e2a-26150fa23420",
   "metadata": {},
   "outputs": [
    {
     "name": "stdout",
     "output_type": "stream",
     "text": [
      "[[1 2]\n",
      " [3 4]\n",
      " [5 6]]\n"
     ]
    }
   ],
   "source": [
    "#this resize the ndarray\n",
    "a=np.array([[1,2,3],[4,5,6]])\n",
    "a.shape=(3,2)\n",
    "print(a)"
   ]
  },
  {
   "cell_type": "code",
   "execution_count": 113,
   "id": "9e88a72a-4573-4deb-9eb6-4d59011e3b2a",
   "metadata": {
    "scrolled": true
   },
   "outputs": [
    {
     "name": "stdout",
     "output_type": "stream",
     "text": [
      "[[1 2 3]\n",
      " [4 5 6]]\n",
      "[[1 2]\n",
      " [3 4]\n",
      " [5 6]]\n"
     ]
    }
   ],
   "source": [
    "#Numpy also provides a reshape function to resize an array\n",
    "a=np.array([[1,2,3],[4,5,6]])\n",
    "print(a)\n",
    "b=a.reshape(3,2)\n",
    "print(b)"
   ]
  },
  {
   "cell_type": "code",
   "execution_count": 116,
   "id": "5379d4f9-20af-4a08-b911-fd1013203a92",
   "metadata": {},
   "outputs": [
    {
     "name": "stdout",
     "output_type": "stream",
     "text": [
      "[[0 0 0]\n",
      " [0 0 0]\n",
      " [0 0 0]\n",
      " [0 0 0]]\n"
     ]
    }
   ],
   "source": [
    "x=np.zeros((4,3),dtype=int)\n",
    "print(x)"
   ]
  },
  {
   "cell_type": "code",
   "execution_count": 119,
   "id": "06c9d1d5-6779-4344-a397-d98c1e7db1ec",
   "metadata": {},
   "outputs": [
    {
     "name": "stdout",
     "output_type": "stream",
     "text": [
      "[1. 1. 1. 1. 1.]\n"
     ]
    }
   ],
   "source": [
    "x=np.ones(5)\n",
    "print(x)"
   ]
  },
  {
   "cell_type": "code",
   "execution_count": 15,
   "id": "83f1ae66-9e52-4eb3-93bd-f76c191c5c39",
   "metadata": {},
   "outputs": [
    {
     "name": "stdout",
     "output_type": "stream",
     "text": [
      "[[1 1]\n",
      " [1 1]]\n"
     ]
    }
   ],
   "source": [
    "x=np.ones([2,2],dtype=int)\n",
    "print(x)"
   ]
  },
  {
   "cell_type": "code",
   "execution_count": 120,
   "id": "446e3dd1-d218-413a-a6fa-85de6c7f5817",
   "metadata": {},
   "outputs": [
    {
     "name": "stdout",
     "output_type": "stream",
     "text": [
      "[[[1 1 1 1]\n",
      "  [1 1 1 1]\n",
      "  [1 1 1 1]\n",
      "  [1 1 1 1]]\n",
      "\n",
      " [[1 1 1 1]\n",
      "  [1 1 1 1]\n",
      "  [1 1 1 1]\n",
      "  [1 1 1 1]]\n",
      "\n",
      " [[1 1 1 1]\n",
      "  [1 1 1 1]\n",
      "  [1 1 1 1]\n",
      "  [1 1 1 1]]]\n"
     ]
    }
   ],
   "source": [
    "#now reshape it\n",
    "b=np.ones([4,12],dtype=int)\n",
    "a=b.reshape(3,4,4)\n",
    "print(a)\n",
    "#b is having three dimesion"
   ]
  },
  {
   "cell_type": "code",
   "execution_count": 17,
   "id": "918f7609-6e74-437e-afd2-ea29ff6b9955",
   "metadata": {},
   "outputs": [
    {
     "name": "stdout",
     "output_type": "stream",
     "text": [
      "[[0 0 0 0]\n",
      " [0 0 0 0]\n",
      " [0 0 0 0]]\n"
     ]
    }
   ],
   "source": [
    "#numpy.empty\n",
    "x=np.empty([3,4],dtype=int)\n",
    "print(x)"
   ]
  },
  {
   "cell_type": "code",
   "execution_count": 123,
   "id": "194a2536-dc63-465a-a71b-b7baa34157cd",
   "metadata": {},
   "outputs": [
    {
     "name": "stdout",
     "output_type": "stream",
     "text": [
      "[[1 0 0 0]\n",
      " [0 1 0 0]\n",
      " [0 0 1 0]\n",
      " [0 0 0 1]]\n"
     ]
    }
   ],
   "source": [
    "#identity matrix\n",
    "x=np.eye((4),dtype=int)\n",
    "print(x)"
   ]
  },
  {
   "cell_type": "code",
   "execution_count": 19,
   "id": "1badd4f9-8570-45a8-8ebb-f5c2e9ca03b2",
   "metadata": {},
   "outputs": [
    {
     "data": {
      "text/plain": [
       "array([[ 0,  1,  2,  3],\n",
       "       [ 4,  5,  6,  7],\n",
       "       [ 8,  9, 10, 11],\n",
       "       [12, 13, 14, 15]])"
      ]
     },
     "execution_count": 19,
     "metadata": {},
     "output_type": "execute_result"
    }
   ],
   "source": [
    "#diagonal \n",
    "x=np.arange(16).reshape(4,4)\n",
    "x"
   ]
  },
  {
   "cell_type": "code",
   "execution_count": 20,
   "id": "c903d853-631d-4900-9248-0a55665d0dc0",
   "metadata": {},
   "outputs": [
    {
     "data": {
      "text/plain": [
       "array([ 0,  5, 10, 15])"
      ]
     },
     "execution_count": 20,
     "metadata": {},
     "output_type": "execute_result"
    }
   ],
   "source": [
    "a=np.diag(x)\n",
    "a"
   ]
  },
  {
   "cell_type": "code",
   "execution_count": 21,
   "id": "5441f91b-4c21-40f1-916e-57c5c6c09a24",
   "metadata": {},
   "outputs": [
    {
     "data": {
      "text/plain": [
       "array([[12,  0,  0,  0,  0,  0],\n",
       "       [ 0, 54,  0,  0,  0,  0],\n",
       "       [ 0,  0, 76,  0,  0,  0],\n",
       "       [ 0,  0,  0, 89,  0,  0],\n",
       "       [ 0,  0,  0,  0, 43,  0],\n",
       "       [ 0,  0,  0,  0,  0, 32]])"
      ]
     },
     "execution_count": 21,
     "metadata": {},
     "output_type": "execute_result"
    }
   ],
   "source": [
    "x=np.array([12,54,76,89,43,32])\n",
    "np.diag(x)"
   ]
  },
  {
   "cell_type": "code",
   "execution_count": 22,
   "id": "e26af524-bf79-4c56-a5b4-096f14ab43c9",
   "metadata": {},
   "outputs": [
    {
     "name": "stdout",
     "output_type": "stream",
     "text": [
      "[ 0  1  2  3  4  5  6  7  8  9 10 11 12 13 14 15 16 17 18 19 20 21 22 23]\n"
     ]
    }
   ],
   "source": [
    "#arange method\n",
    "import numpy as np\n",
    "a=np.arange(24)\n",
    "print(a)"
   ]
  },
  {
   "cell_type": "code",
   "execution_count": 125,
   "id": "a4421a90-835a-4e2d-aa47-c593443b9f47",
   "metadata": {},
   "outputs": [
    {
     "data": {
      "text/plain": [
       "1"
      ]
     },
     "execution_count": 125,
     "metadata": {},
     "output_type": "execute_result"
    }
   ],
   "source": [
    "#this is one dimentional array\n",
    "a=np.arange(24)\n",
    "a.ndim"
   ]
  },
  {
   "cell_type": "code",
   "execution_count": 24,
   "id": "ddb6b596-b7ad-4b42-b869-5c3af8a0dd60",
   "metadata": {},
   "outputs": [
    {
     "name": "stdout",
     "output_type": "stream",
     "text": [
      "[0. 1. 2. 3. 4.]\n"
     ]
    }
   ],
   "source": [
    "x=np.arange(5,dtype=float)\n",
    "print(x)"
   ]
  },
  {
   "cell_type": "code",
   "execution_count": 25,
   "id": "acb8845f-01e9-451b-a361-c97c56b62f95",
   "metadata": {},
   "outputs": [
    {
     "name": "stdout",
     "output_type": "stream",
     "text": [
      "[10 12 14 16 18]\n"
     ]
    }
   ],
   "source": [
    "#start and stop parameters set\n",
    "x=np.arange(10,20,2)\n",
    "print(x)"
   ]
  },
  {
   "cell_type": "code",
   "execution_count": 26,
   "id": "a90bd4f4-3e46-451d-bbbb-1ac8fb536788",
   "metadata": {},
   "outputs": [
    {
     "name": "stdout",
     "output_type": "stream",
     "text": [
      "[10.  12.5 15.  17.5 20. ]\n"
     ]
    }
   ],
   "source": [
    "#linspace function\n",
    "x=np.linspace(10,20,5)\n",
    "print(x)"
   ]
  },
  {
   "cell_type": "code",
   "execution_count": 27,
   "id": "e105d3d5-eb21-4a01-a097-8a1a3062102f",
   "metadata": {},
   "outputs": [
    {
     "name": "stdout",
     "output_type": "stream",
     "text": [
      "[10.         11.66666667 13.33333333 15.         16.66666667 18.33333333\n",
      " 20.        ]\n"
     ]
    }
   ],
   "source": [
    "x=np.linspace(10,20,7)\n",
    "print(x)"
   ]
  },
  {
   "cell_type": "code",
   "execution_count": 28,
   "id": "aa41e2bb-75c4-4502-b5bb-c7bcb6b4b88e",
   "metadata": {},
   "outputs": [
    {
     "name": "stdout",
     "output_type": "stream",
     "text": [
      "(array([10., 12., 14., 16., 18.]), 2.0)\n"
     ]
    }
   ],
   "source": [
    "#endpoint set to false\n",
    "x=np.linspace(10,20,5,endpoint=False,retstep=True)\n",
    "print(x)"
   ]
  },
  {
   "cell_type": "code",
   "execution_count": 29,
   "id": "a99fa239-b654-4bb5-ad6e-b3f406acd6e5",
   "metadata": {},
   "outputs": [
    {
     "name": "stdout",
     "output_type": "stream",
     "text": [
      "(array([1.  , 1.25, 1.5 , 1.75, 2.  ]), 0.25)\n"
     ]
    }
   ],
   "source": [
    "#find retstep value\n",
    "x=np.linspace(1,2,5,retstep=True)\n",
    "print(x)"
   ]
  },
  {
   "cell_type": "code",
   "execution_count": 30,
   "id": "f54f30ad-cafc-48fb-b497-dbd1cd940df9",
   "metadata": {},
   "outputs": [
    {
     "name": "stdout",
     "output_type": "stream",
     "text": [
      "<class 'list'>\n",
      "<class 'numpy.ndarray'>\n",
      "[1 2 3]\n"
     ]
    }
   ],
   "source": [
    "#convert list to ndarray\n",
    "x=[1,2,3]\n",
    "print(type(x))\n",
    "a=np.asarray(x)\n",
    "print(type(a))\n",
    "print(a)"
   ]
  },
  {
   "cell_type": "code",
   "execution_count": 31,
   "id": "5e593a30-d5cd-4c63-a3d3-1a4aaf9d800c",
   "metadata": {},
   "outputs": [
    {
     "name": "stdout",
     "output_type": "stream",
     "text": [
      "[1. 2. 3.]\n"
     ]
    }
   ],
   "source": [
    "#dtype is provided\n",
    "x=[1,2,3]\n",
    "a=np.asarray(x,dtype=float)\n",
    "print(a)"
   ]
  },
  {
   "cell_type": "code",
   "execution_count": 32,
   "id": "85f96068-2353-4007-b3d8-c135c3ae49b2",
   "metadata": {},
   "outputs": [
    {
     "name": "stdout",
     "output_type": "stream",
     "text": [
      "[1 2 3]\n"
     ]
    }
   ],
   "source": [
    "#ndarray from tuple\n",
    "x=(1,2,3)\n",
    "a=np.asarray(x)\n",
    "print(a)"
   ]
  },
  {
   "cell_type": "code",
   "execution_count": 33,
   "id": "c9bf3dfd-3640-4558-97b5-f719bbd89e0b",
   "metadata": {},
   "outputs": [
    {
     "name": "stdout",
     "output_type": "stream",
     "text": [
      "[[1 2 3]\n",
      " [4 5 7]]\n"
     ]
    }
   ],
   "source": [
    "#ndarray from list of tuple\n",
    "x=[(1,2,3),(4,5,7)]\n",
    "a=np.asarray(x)\n",
    "print(a)"
   ]
  },
  {
   "cell_type": "code",
   "execution_count": 34,
   "id": "8a3349d5-8eeb-4b74-b4f3-f6d7fe0dbb1e",
   "metadata": {},
   "outputs": [
    {
     "name": "stdout",
     "output_type": "stream",
     "text": [
      "[1 2 3 4 5]\n"
     ]
    }
   ],
   "source": [
    "#accessing\n",
    "a=np.array([1,2,3,4,5])\n",
    "print(a)"
   ]
  },
  {
   "cell_type": "code",
   "execution_count": 35,
   "id": "2c88b58a-0279-43b5-addf-5c1d0f659779",
   "metadata": {},
   "outputs": [
    {
     "data": {
      "text/plain": [
       "array([3, 4])"
      ]
     },
     "execution_count": 35,
     "metadata": {},
     "output_type": "execute_result"
    }
   ],
   "source": [
    "a[2:4]"
   ]
  },
  {
   "cell_type": "code",
   "execution_count": 36,
   "id": "ffc0837f-2a8e-4155-9194-b5a5afd83b65",
   "metadata": {},
   "outputs": [
    {
     "data": {
      "text/plain": [
       "array([2, 3, 4])"
      ]
     },
     "execution_count": 36,
     "metadata": {},
     "output_type": "execute_result"
    }
   ],
   "source": [
    "a[1:4]"
   ]
  },
  {
   "cell_type": "code",
   "execution_count": 37,
   "id": "577b0318-6ee3-49e6-b28f-e5c8eb75ba7f",
   "metadata": {},
   "outputs": [
    {
     "data": {
      "text/plain": [
       "array([2, 3, 4, 5])"
      ]
     },
     "execution_count": 37,
     "metadata": {},
     "output_type": "execute_result"
    }
   ],
   "source": [
    "a[1:]"
   ]
  },
  {
   "cell_type": "code",
   "execution_count": 38,
   "id": "a3d90f7c-5e37-471e-bd0e-12e5d39b638c",
   "metadata": {},
   "outputs": [
    {
     "data": {
      "text/plain": [
       "array([1, 2, 3, 4])"
      ]
     },
     "execution_count": 38,
     "metadata": {},
     "output_type": "execute_result"
    }
   ],
   "source": [
    "a[:4]"
   ]
  },
  {
   "cell_type": "code",
   "execution_count": 39,
   "id": "32b0d8db-480a-4019-a7a2-fcf3fd4f7361",
   "metadata": {},
   "outputs": [
    {
     "data": {
      "text/plain": [
       "array([5, 4, 3, 2, 1])"
      ]
     },
     "execution_count": 39,
     "metadata": {},
     "output_type": "execute_result"
    }
   ],
   "source": [
    "a[::-1]"
   ]
  },
  {
   "cell_type": "code",
   "execution_count": 40,
   "id": "8898f033-5108-459e-8a2a-d803754607bd",
   "metadata": {},
   "outputs": [
    {
     "data": {
      "text/plain": [
       "array([4, 5])"
      ]
     },
     "execution_count": 40,
     "metadata": {},
     "output_type": "execute_result"
    }
   ],
   "source": [
    "a[-2:]"
   ]
  },
  {
   "cell_type": "code",
   "execution_count": 41,
   "id": "12397935-1323-40d5-9364-6e075daad968",
   "metadata": {},
   "outputs": [
    {
     "data": {
      "text/plain": [
       "array([1, 2, 3])"
      ]
     },
     "execution_count": 41,
     "metadata": {},
     "output_type": "execute_result"
    }
   ],
   "source": [
    "a[:-2]"
   ]
  },
  {
   "cell_type": "code",
   "execution_count": 42,
   "id": "a1a88d98-5741-40a4-8616-961dd5ecbcde",
   "metadata": {},
   "outputs": [
    {
     "name": "stdout",
     "output_type": "stream",
     "text": [
      "2x2 matrix:\n",
      " [[1 3]\n",
      " [5 7]]\n"
     ]
    }
   ],
   "source": [
    "#create matrix in numpy\n",
    "#create 2x2 matrix\n",
    "matrix1=np.array([[1,3],[5,7]])\n",
    "print('2x2 matrix:\\n',matrix1)"
   ]
  },
  {
   "cell_type": "code",
   "execution_count": 43,
   "id": "f2dfd9c2-9c5f-412a-83d6-e0632179f7af",
   "metadata": {},
   "outputs": [
    {
     "name": "stdout",
     "output_type": "stream",
     "text": [
      "\n",
      "3x3 Matrix:\n",
      " [[ 2  3  5]\n",
      " [ 7 13 68]\n",
      " [ 3  7  9]]\n"
     ]
    }
   ],
   "source": [
    "#create 3x3 matrix\n",
    "matrix2=np.array([[2,3,5],[7,13,68],[3,7,9]])\n",
    "print(\"\\n3x3 Matrix:\\n\",matrix2)"
   ]
  },
  {
   "cell_type": "code",
   "execution_count": 44,
   "id": "43d6314e-d03b-411b-8eb3-cef3f21cad87",
   "metadata": {},
   "outputs": [
    {
     "name": "stdout",
     "output_type": "stream",
     "text": [
      "[[4 6 2]\n",
      " [6 9 2]\n",
      " [2 1 9]]\n",
      "\n",
      "[[ 4  6  9]\n",
      " [ 1  7 43]\n",
      " [43 43 42]]\n",
      "\n",
      "[[ 8 12 11]\n",
      " [ 7 16 45]\n",
      " [45 44 51]]\n"
     ]
    }
   ],
   "source": [
    "#sum of two matrix\n",
    "matrix1=np.array([[4,6,2],[6,9,2],[2,1,9]])\n",
    "print(matrix1)\n",
    "print()\n",
    "matrix2=np.array([[4,6,9],[1,7,43],[43,43,42]])\n",
    "print(matrix2)\n",
    "print()\n",
    "s_m=matrix1+matrix2\n",
    "print(s_m)"
   ]
  },
  {
   "cell_type": "code",
   "execution_count": 45,
   "id": "7110a232-1519-48e7-9ed7-1a2108ebe4e1",
   "metadata": {},
   "outputs": [
    {
     "name": "stdout",
     "output_type": "stream",
     "text": [
      "matrix1 x matrix2:\n",
      " [[14 30]\n",
      " [38 86]]\n"
     ]
    }
   ],
   "source": [
    "#perform matrix multiplication in numpy..we use the np.dot() function to perform multiplication b/w two matrics\n",
    "import numpy as np\n",
    "matrix1=np.array([[1,3],[5,7]])\n",
    "matrix2=np.array([[2,6],[4,8]])\n",
    "result=np.dot(matrix1,matrix2)\n",
    "print(\"matrix1 x matrix2:\\n\",result)"
   ]
  },
  {
   "cell_type": "code",
   "execution_count": 46,
   "id": "ebb900d8-4177-4bea-80fa-df8a1e63c5f4",
   "metadata": {},
   "outputs": [
    {
     "name": "stdout",
     "output_type": "stream",
     "text": [
      "[[1 3 5]\n",
      " [5 7 9]]\n",
      "\n",
      "[[1 5]\n",
      " [3 7]\n",
      " [5 9]]\n"
     ]
    }
   ],
   "source": [
    "#In numpy,we can obtain the transpose of a matrix using the np.transpose() fn.\n",
    "matrix1=np.array([[1,3,5],[5,7,9]])\n",
    "print(matrix1)\n",
    "print()\n",
    "result=np.transpose(matrix1)\n",
    "print(result)"
   ]
  },
  {
   "cell_type": "code",
   "execution_count": 47,
   "id": "26d02f0f-93b5-4f21-9d33-3c7d066e7ab7",
   "metadata": {},
   "outputs": [
    {
     "name": "stdout",
     "output_type": "stream",
     "text": [
      "[3 5 6]\n",
      "\n",
      "[6 7 8]\n",
      "\n"
     ]
    },
    {
     "data": {
      "text/plain": [
       "array([3, 5, 6, 6, 7, 8])"
      ]
     },
     "execution_count": 47,
     "metadata": {},
     "output_type": "execute_result"
    }
   ],
   "source": [
    "#numpy.hstack() function--horizontally stack numpy arrays using numpy.hstack()\n",
    "x=np.array((3,5,6))\n",
    "print(x)\n",
    "print()\n",
    "y=np.array((6,7,8))\n",
    "print(y)\n",
    "print()\n",
    "np.hstack((x,y))"
   ]
  },
  {
   "cell_type": "code",
   "execution_count": 48,
   "id": "265d8324-2b43-4aeb-881a-bfa513eaaefe",
   "metadata": {},
   "outputs": [
    {
     "name": "stdout",
     "output_type": "stream",
     "text": [
      "[[3]\n",
      " [5]\n",
      " [7]]\n",
      "\n",
      "[[5]\n",
      " [9]\n",
      " [2]]\n",
      "\n"
     ]
    },
    {
     "data": {
      "text/plain": [
       "array([[3, 5],\n",
       "       [5, 9],\n",
       "       [7, 2]])"
      ]
     },
     "execution_count": 48,
     "metadata": {},
     "output_type": "execute_result"
    }
   ],
   "source": [
    "x=np.array([[3],[5],[7]])\n",
    "print(x)\n",
    "print()\n",
    "y=np.array([[5],[9],[2]])\n",
    "print(y)\n",
    "print()\n",
    "np.hstack((x,y))"
   ]
  },
  {
   "cell_type": "code",
   "execution_count": 49,
   "id": "e67e539e-7bac-4ebf-be51-028812dfeae3",
   "metadata": {},
   "outputs": [
    {
     "name": "stdout",
     "output_type": "stream",
     "text": [
      "[3 6 8]\n",
      "\n",
      "[5 9 1]\n",
      "\n"
     ]
    },
    {
     "data": {
      "text/plain": [
       "array([[3, 6, 8],\n",
       "       [5, 9, 1]])"
      ]
     },
     "execution_count": 49,
     "metadata": {},
     "output_type": "execute_result"
    }
   ],
   "source": [
    "#np.vstack-vertically stack\n",
    "x=np.array([3,6,8])\n",
    "print(x)\n",
    "print()\n",
    "y=np.array([5,9,1])\n",
    "print(y)\n",
    "print()\n",
    "np.vstack((x,y))"
   ]
  },
  {
   "cell_type": "code",
   "execution_count": 50,
   "id": "56e0e20a-e5fb-486b-837f-a24578036beb",
   "metadata": {},
   "outputs": [
    {
     "name": "stdout",
     "output_type": "stream",
     "text": [
      "[[3]\n",
      " [6]\n",
      " [8]]\n",
      "\n",
      "[[5]\n",
      " [9]\n",
      " [1]]\n",
      "\n"
     ]
    },
    {
     "data": {
      "text/plain": [
       "array([[3],\n",
       "       [6],\n",
       "       [8],\n",
       "       [5],\n",
       "       [9],\n",
       "       [1]])"
      ]
     },
     "execution_count": 50,
     "metadata": {},
     "output_type": "execute_result"
    }
   ],
   "source": [
    "x=np.array([[3],[6],[8]])\n",
    "print(x)\n",
    "print()\n",
    "y=np.array([[5],[9],[1]])\n",
    "print(y)\n",
    "print()\n",
    "np.vstack((x,y))"
   ]
  },
  {
   "cell_type": "code",
   "execution_count": 51,
   "id": "07670b80-cd90-466b-b707-955b1c30670f",
   "metadata": {},
   "outputs": [
    {
     "name": "stdout",
     "output_type": "stream",
     "text": [
      "[[1 2 3]\n",
      " [4 5 6]\n",
      " [7 8 9]]\n"
     ]
    }
   ],
   "source": [
    "x=np.array([[1,2,3],[4,5,6],[7,8,9]])\n",
    "print(x)"
   ]
  },
  {
   "cell_type": "code",
   "execution_count": 52,
   "id": "218637ff-f622-44a6-a73b-d52c0f8f87a7",
   "metadata": {},
   "outputs": [
    {
     "data": {
      "text/plain": [
       "2"
      ]
     },
     "execution_count": 52,
     "metadata": {},
     "output_type": "execute_result"
    }
   ],
   "source": [
    "x.ndim"
   ]
  },
  {
   "cell_type": "code",
   "execution_count": 53,
   "id": "09d62709-b9c2-4269-a7cd-9519eb664843",
   "metadata": {},
   "outputs": [
    {
     "data": {
      "text/plain": [
       "(3, 3)"
      ]
     },
     "execution_count": 53,
     "metadata": {},
     "output_type": "execute_result"
    }
   ],
   "source": [
    "x.shape"
   ]
  },
  {
   "cell_type": "code",
   "execution_count": 54,
   "id": "0f1addcc-d9fd-4548-beb3-41234cc4d14d",
   "metadata": {},
   "outputs": [
    {
     "name": "stdout",
     "output_type": "stream",
     "text": [
      "[[ 1 11 12 13]\n",
      " [ 2 23  7 28]\n",
      " [31 32 34 35]\n",
      " [41 42  5 44]]\n"
     ]
    }
   ],
   "source": [
    "x=np.array([[1,11,12,13],[2,23,7,28],[31,32,34,35],[41,42,5,44]])\n",
    "print(x)"
   ]
  },
  {
   "cell_type": "code",
   "execution_count": 55,
   "id": "3d9e8ab9-daa8-4935-b27f-6eca0877a02f",
   "metadata": {},
   "outputs": [
    {
     "name": "stdout",
     "output_type": "stream",
     "text": [
      "[[23  7]\n",
      " [32 34]]\n"
     ]
    }
   ],
   "source": [
    "print(x[1:3,1:3])"
   ]
  },
  {
   "cell_type": "code",
   "execution_count": 56,
   "id": "6997fe5d-40d0-4fdd-9dcf-eb7fd3a0f5b5",
   "metadata": {},
   "outputs": [
    {
     "name": "stdout",
     "output_type": "stream",
     "text": [
      "[[ 2 23]\n",
      " [31 32]]\n"
     ]
    }
   ],
   "source": [
    "print(x[1:3,:2])"
   ]
  },
  {
   "cell_type": "code",
   "execution_count": 57,
   "id": "1f735004-d424-4337-9038-853aadb8e446",
   "metadata": {},
   "outputs": [
    {
     "data": {
      "text/plain": [
       "array([[ 1, 11, 12, 13],\n",
       "       [ 2,  7, 23, 28],\n",
       "       [31, 32, 34, 35],\n",
       "       [ 5, 41, 42, 44]])"
      ]
     },
     "execution_count": 57,
     "metadata": {},
     "output_type": "execute_result"
    }
   ],
   "source": [
    "np.sort(x)"
   ]
  },
  {
   "cell_type": "code",
   "execution_count": 58,
   "id": "28c5e0b3-42cc-4a85-9541-07c7c514a3c1",
   "metadata": {},
   "outputs": [
    {
     "data": {
      "text/plain": [
       "array([[ 1, 11,  5, 13],\n",
       "       [ 2, 23,  7, 28],\n",
       "       [31, 32, 12, 35],\n",
       "       [41, 42, 34, 44]])"
      ]
     },
     "execution_count": 58,
     "metadata": {},
     "output_type": "execute_result"
    }
   ],
   "source": [
    "np.sort(x,axis=0)"
   ]
  },
  {
   "cell_type": "code",
   "execution_count": 59,
   "id": "56a869ea-17c0-41b1-bf54-c69d230c2af0",
   "metadata": {},
   "outputs": [
    {
     "name": "stdout",
     "output_type": "stream",
     "text": [
      "[23 56 21 98 34 89]\n"
     ]
    }
   ],
   "source": [
    "ls=[23,56,21,98,34,89]\n",
    "b=np.array(ls)\n",
    "print(b)"
   ]
  },
  {
   "cell_type": "code",
   "execution_count": 60,
   "id": "4f5642e5-31b0-4a72-afd2-e75ee2a2c6e6",
   "metadata": {},
   "outputs": [
    {
     "data": {
      "text/plain": [
       "3"
      ]
     },
     "execution_count": 60,
     "metadata": {},
     "output_type": "execute_result"
    }
   ],
   "source": [
    "b.argmax()"
   ]
  },
  {
   "cell_type": "code",
   "execution_count": 61,
   "id": "13b6d444-dff6-4d74-ae5f-d0c59659942d",
   "metadata": {},
   "outputs": [
    {
     "data": {
      "text/plain": [
       "array([2, 0, 4, 1, 5, 3], dtype=int64)"
      ]
     },
     "execution_count": 61,
     "metadata": {},
     "output_type": "execute_result"
    }
   ],
   "source": [
    "b.argsort()"
   ]
  },
  {
   "cell_type": "code",
   "execution_count": 62,
   "id": "f4b8d17a-5fcf-4ead-97f5-8db7c14d429f",
   "metadata": {},
   "outputs": [
    {
     "data": {
      "text/plain": [
       "array([21, 23, 34, 56, 89, 98])"
      ]
     },
     "execution_count": 62,
     "metadata": {},
     "output_type": "execute_result"
    }
   ],
   "source": [
    "b[b.argsort()]"
   ]
  },
  {
   "cell_type": "code",
   "execution_count": 128,
   "id": "3800bfd3-d58a-4be5-8f83-66244cad1325",
   "metadata": {},
   "outputs": [
    {
     "name": "stdout",
     "output_type": "stream",
     "text": [
      "[ 1  2  3  4  5  6  7  8  9 10 11 12 13 14 15 16 17 18 19 20]\n"
     ]
    }
   ],
   "source": [
    "#conditional selection\n",
    "import numpy as np\n",
    "a=np.arange(1,21)\n",
    "print(a)"
   ]
  },
  {
   "cell_type": "code",
   "execution_count": 129,
   "id": "44de71e2-14a0-47bb-8bcc-a405a389c0c6",
   "metadata": {},
   "outputs": [
    {
     "data": {
      "text/plain": [
       "array([False, False, False, False, False, False, False, False, False,\n",
       "       False,  True,  True,  True,  True,  True,  True,  True,  True,\n",
       "        True,  True])"
      ]
     },
     "execution_count": 129,
     "metadata": {},
     "output_type": "execute_result"
    }
   ],
   "source": [
    "a>10"
   ]
  },
  {
   "cell_type": "code",
   "execution_count": 130,
   "id": "cf4c1100-322f-4382-9190-7895fbe526ff",
   "metadata": {},
   "outputs": [
    {
     "data": {
      "text/plain": [
       "array([11, 12, 13, 14, 15, 16, 17, 18, 19, 20])"
      ]
     },
     "execution_count": 130,
     "metadata": {},
     "output_type": "execute_result"
    }
   ],
   "source": [
    "a[a>10]"
   ]
  },
  {
   "cell_type": "code",
   "execution_count": 131,
   "id": "f2f6c525-5bff-45b4-bdd7-4cffaaacea10",
   "metadata": {},
   "outputs": [
    {
     "data": {
      "text/plain": [
       "array([1, 2, 3, 4, 5, 6, 7, 8, 9])"
      ]
     },
     "execution_count": 131,
     "metadata": {},
     "output_type": "execute_result"
    }
   ],
   "source": [
    "a[a<10]"
   ]
  },
  {
   "cell_type": "code",
   "execution_count": 132,
   "id": "66b9d631-8d6e-4844-9a94-5032db18702a",
   "metadata": {},
   "outputs": [
    {
     "data": {
      "text/plain": [
       "array([ 2,  4,  6,  8, 10, 12, 14, 16, 18, 20])"
      ]
     },
     "execution_count": 132,
     "metadata": {},
     "output_type": "execute_result"
    }
   ],
   "source": [
    "a[a%2==0]"
   ]
  },
  {
   "cell_type": "code",
   "execution_count": 133,
   "id": "cc463548-8ee4-45d5-97db-0de6aba362f4",
   "metadata": {},
   "outputs": [
    {
     "data": {
      "text/plain": [
       "array([ 1,  3,  5,  7,  9, 11, 13, 15, 17, 19])"
      ]
     },
     "execution_count": 133,
     "metadata": {},
     "output_type": "execute_result"
    }
   ],
   "source": [
    "a[a%2!=0]"
   ]
  },
  {
   "cell_type": "code",
   "execution_count": 134,
   "id": "1397261d-3c0f-46da-8078-e1701606a2fc",
   "metadata": {},
   "outputs": [
    {
     "data": {
      "text/plain": [
       "array([1, 2, 3, 4])"
      ]
     },
     "execution_count": 134,
     "metadata": {},
     "output_type": "execute_result"
    }
   ],
   "source": [
    "a[a<5]"
   ]
  },
  {
   "cell_type": "code",
   "execution_count": 135,
   "id": "09cabc0a-92ef-478c-8582-934a25655ec4",
   "metadata": {},
   "outputs": [
    {
     "data": {
      "text/plain": [
       "array([5])"
      ]
     },
     "execution_count": 135,
     "metadata": {},
     "output_type": "execute_result"
    }
   ],
   "source": [
    "a[a==5]"
   ]
  },
  {
   "cell_type": "code",
   "execution_count": 138,
   "id": "020eef11-a2ca-40b1-a1e4-6e9476e18598",
   "metadata": {},
   "outputs": [],
   "source": [
    "a[a%2!=0]=0"
   ]
  },
  {
   "cell_type": "code",
   "execution_count": 139,
   "id": "29438070-93f3-4887-8b28-1df4faabb88f",
   "metadata": {},
   "outputs": [
    {
     "data": {
      "text/plain": [
       "array([ 0,  2,  0,  4,  0,  6,  0,  8,  0, 10,  0, 12,  0, 14,  0, 16,  0,\n",
       "       18,  0, 20])"
      ]
     },
     "execution_count": 139,
     "metadata": {},
     "output_type": "execute_result"
    }
   ],
   "source": [
    "a"
   ]
  },
  {
   "cell_type": "code",
   "execution_count": 73,
   "id": "b8b47081-397f-4906-a14f-156105876498",
   "metadata": {},
   "outputs": [
    {
     "name": "stdout",
     "output_type": "stream",
     "text": [
      "[1 2 3 4 5 2]\n"
     ]
    }
   ],
   "source": [
    "#where function\n",
    "a=np.array([1,2,3,4,5,2])\n",
    "print(a)"
   ]
  },
  {
   "cell_type": "code",
   "execution_count": 74,
   "id": "6e65323a-0dd4-4d99-8161-07b4c3ede437",
   "metadata": {},
   "outputs": [
    {
     "data": {
      "text/plain": [
       "1"
      ]
     },
     "execution_count": 74,
     "metadata": {},
     "output_type": "execute_result"
    }
   ],
   "source": [
    "a.ndim"
   ]
  },
  {
   "cell_type": "code",
   "execution_count": 75,
   "id": "98bd0f2f-a531-40a7-9ba4-2dc9cbef48c1",
   "metadata": {},
   "outputs": [
    {
     "data": {
      "text/plain": [
       "(6,)"
      ]
     },
     "execution_count": 75,
     "metadata": {},
     "output_type": "execute_result"
    }
   ],
   "source": [
    "a.shape"
   ]
  },
  {
   "cell_type": "code",
   "execution_count": 76,
   "id": "33275d7a-814d-49bb-bc38-a3eaf0c9b6d0",
   "metadata": {},
   "outputs": [
    {
     "data": {
      "text/plain": [
       "(array([1, 5], dtype=int64),)"
      ]
     },
     "execution_count": 76,
     "metadata": {},
     "output_type": "execute_result"
    }
   ],
   "source": [
    "np.where(a==2)"
   ]
  },
  {
   "cell_type": "code",
   "execution_count": 142,
   "id": "8c50cff0-f70d-42dd-8a89-f3c5ffe5b9af",
   "metadata": {},
   "outputs": [
    {
     "name": "stdout",
     "output_type": "stream",
     "text": [
      "[ 1  2  3  4 10 11 15]\n"
     ]
    }
   ],
   "source": [
    "#searchsorted\n",
    "x=np.array([1,2,3,4,10,11,15])\n",
    "print(x)"
   ]
  },
  {
   "cell_type": "code",
   "execution_count": 143,
   "id": "168cf74f-0864-42f8-bd4c-9c31ce57a242",
   "metadata": {},
   "outputs": [
    {
     "data": {
      "text/plain": [
       "4"
      ]
     },
     "execution_count": 143,
     "metadata": {},
     "output_type": "execute_result"
    }
   ],
   "source": [
    "np.searchsorted(x,8)"
   ]
  },
  {
   "cell_type": "code",
   "execution_count": 145,
   "id": "2409927b-cfdb-438b-9107-3cfc346d6e65",
   "metadata": {},
   "outputs": [
    {
     "data": {
      "text/plain": [
       "7"
      ]
     },
     "execution_count": 145,
     "metadata": {},
     "output_type": "execute_result"
    }
   ],
   "source": [
    "np.searchsorted(x,16)"
   ]
  },
  {
   "cell_type": "code",
   "execution_count": 80,
   "id": "eeecb060-3d62-4351-8c16-bfdf9c16befe",
   "metadata": {},
   "outputs": [],
   "source": [
    "#comparision b/w list and array\n",
    "#takes less momory\n",
    "import time\n",
    "import sys"
   ]
  },
  {
   "cell_type": "code",
   "execution_count": 148,
   "id": "0c316fcd-7bba-4422-9853-93df8bd5d558",
   "metadata": {},
   "outputs": [
    {
     "data": {
      "text/plain": [
       "28"
      ]
     },
     "execution_count": 148,
     "metadata": {},
     "output_type": "execute_result"
    }
   ],
   "source": [
    "sys.getsizeof(1000)"
   ]
  },
  {
   "cell_type": "code",
   "execution_count": 82,
   "id": "9d7f3611-7432-4329-8fab-05bfe983c0ca",
   "metadata": {},
   "outputs": [
    {
     "name": "stdout",
     "output_type": "stream",
     "text": [
      "5600000\n"
     ]
    }
   ],
   "source": [
    "l=range(200000)\n",
    "print(sys.getsizeof(2)*len(l))"
   ]
  },
  {
   "cell_type": "code",
   "execution_count": 83,
   "id": "236f46dc-e083-49c0-9bf6-10eff291b926",
   "metadata": {},
   "outputs": [
    {
     "data": {
      "text/plain": [
       "4"
      ]
     },
     "execution_count": 83,
     "metadata": {},
     "output_type": "execute_result"
    }
   ],
   "source": [
    "a=np.arange(200000)\n",
    "a.itemsize"
   ]
  },
  {
   "cell_type": "code",
   "execution_count": 84,
   "id": "6cba604a-0e5d-49db-82be-5905980420cd",
   "metadata": {},
   "outputs": [
    {
     "name": "stdout",
     "output_type": "stream",
     "text": [
      "800000\n"
     ]
    }
   ],
   "source": [
    "a=np.arange(200000)\n",
    "print(a.itemsize*len(a))"
   ]
  },
  {
   "cell_type": "code",
   "execution_count": 85,
   "id": "9d494310-141c-4a19-892d-5935d73d02ac",
   "metadata": {},
   "outputs": [
    {
     "name": "stdout",
     "output_type": "stream",
     "text": [
      "time taken: 249.76205825805664\n"
     ]
    }
   ],
   "source": [
    "a1=range(1000000)\n",
    "b1=range(1000000)\n",
    "\n",
    "start=time.time()\n",
    "c1=[(x+y) for x,y in zip(a1,b1)]\n",
    "print(\"time taken:\",(time.time()-start)*1000)"
   ]
  },
  {
   "cell_type": "code",
   "execution_count": 86,
   "id": "ac766e5c-966f-41a8-817b-49999f4ac934",
   "metadata": {},
   "outputs": [
    {
     "data": {
      "text/plain": [
       "1717917721498.208"
      ]
     },
     "execution_count": 86,
     "metadata": {},
     "output_type": "execute_result"
    }
   ],
   "source": [
    "time.time()*1000"
   ]
  },
  {
   "cell_type": "code",
   "execution_count": 152,
   "id": "8e842a71-4931-46d4-adb9-18f76ab41806",
   "metadata": {},
   "outputs": [
    {
     "name": "stdout",
     "output_type": "stream",
     "text": [
      "time taken by: 2.0110607147216797\n"
     ]
    }
   ],
   "source": [
    "#fast\n",
    "a2=np.arange(1000000)\n",
    "b2=np.arange(1000000)\n",
    "start=time.time()\n",
    "c2=a2+b2\n",
    "print(\"time taken by:\",(time.time()-start)*1000)"
   ]
  },
  {
   "cell_type": "code",
   "execution_count": 151,
   "id": "00f632a3-eb47-4bb6-bf13-8a67053478e1",
   "metadata": {},
   "outputs": [],
   "source": [
    "#convinient\n",
    "n1=np.arange(10)\n",
    "n2=np.arange(10)\n"
   ]
  },
  {
   "cell_type": "code",
   "execution_count": 89,
   "id": "90e342a9-9fbe-496b-9d73-9bcefc1e1502",
   "metadata": {},
   "outputs": [
    {
     "data": {
      "text/plain": [
       "array([ 0,  1,  4,  9, 16, 25, 36, 49, 64, 81])"
      ]
     },
     "execution_count": 89,
     "metadata": {},
     "output_type": "execute_result"
    }
   ],
   "source": [
    "n1*n2"
   ]
  },
  {
   "cell_type": "code",
   "execution_count": 90,
   "id": "55273bf8-5bcf-491b-912a-48547524da1f",
   "metadata": {},
   "outputs": [
    {
     "name": "stdout",
     "output_type": "stream",
     "text": [
      "[12, 23, 54, 32, 76, 14]\n",
      "[12, 23, 54, 32, 76, 14]\n",
      "[12, 23, 54, 32, 76, 14]\n",
      "[12, 23, 54, 'Nishant', 76, 14]\n"
     ]
    }
   ],
   "source": [
    "#shallow copy\n",
    "ls=[12,23,54,32,76,14]\n",
    "ls1=ls.copy()\n",
    "print(ls)\n",
    "print(ls1)\n",
    "ls1[3]=\"Nishant\"\n",
    "print(ls)\n",
    "print(ls1)"
   ]
  },
  {
   "cell_type": "code",
   "execution_count": 91,
   "id": "a57212bb-c696-4d5c-883b-608ac1906e2f",
   "metadata": {},
   "outputs": [
    {
     "name": "stdout",
     "output_type": "stream",
     "text": [
      "[[12, 23, 54], [32, 76, 14]]\n",
      "[[12, 23, 54], [32, 76, 14]]\n",
      "[[12, 23, 'Nishant'], [32, 76, 14]]\n",
      "[[12, 23, 'Nishant'], [32, 76, 14]]\n"
     ]
    }
   ],
   "source": [
    "ls=[[12,23,54],[32,76,14]]\n",
    "ls1=ls.copy()\n",
    "print(ls)\n",
    "print(ls1)\n",
    "ls1[0][2]=\"Nishant\"\n",
    "print(ls)\n",
    "print(ls1)"
   ]
  },
  {
   "cell_type": "code",
   "execution_count": 92,
   "id": "26bb6425-09ef-461e-aa14-d63c46193e53",
   "metadata": {},
   "outputs": [
    {
     "name": "stdout",
     "output_type": "stream",
     "text": [
      "[[12, 23, 54], [32, 76, 14]]\n",
      "[[12, 23, 54], [32, 76, 14]]\n",
      "[[12, 23, 54], [32, 76, 14]]\n",
      "[[12, 23, 'Nishant'], [32, 76, 14]]\n"
     ]
    }
   ],
   "source": [
    "import copy\n",
    "ls=[[12,23,54],[32,76,14]]\n",
    "ls1=copy.deepcopy(ls)\n",
    "print(ls)\n",
    "print(ls1)\n",
    "ls1[0][2]=\"Nishant\"\n",
    "print(ls)\n",
    "print(ls1)"
   ]
  },
  {
   "cell_type": "code",
   "execution_count": 178,
   "id": "9551c506-ac89-41ee-8ade-492c958c2f24",
   "metadata": {},
   "outputs": [
    {
     "name": "stdout",
     "output_type": "stream",
     "text": [
      "3\n"
     ]
    }
   ],
   "source": [
    "#generate random integer from 0 to 9\n",
    "import numpy as np\n",
    "random_number=np.random.randint(1,7)\n",
    "print(random_number)"
   ]
  },
  {
   "cell_type": "code",
   "execution_count": 179,
   "id": "d7320341-5a22-4464-b556-a20d21fdc081",
   "metadata": {},
   "outputs": [
    {
     "name": "stdout",
     "output_type": "stream",
     "text": [
      "5\n"
     ]
    }
   ],
   "source": [
    "#note-we can also import and use the random module like this:\n",
    "from numpy import random\n",
    "random_number=random.randint(0,10)\n",
    "print(random_number)"
   ]
  },
  {
   "cell_type": "code",
   "execution_count": 194,
   "id": "219fc289-2584-4b3c-87b6-ba6209dafdb8",
   "metadata": {},
   "outputs": [
    {
     "name": "stdout",
     "output_type": "stream",
     "text": [
      "0.31441695042923645\n"
     ]
    }
   ],
   "source": [
    "#generate ramdom float in Numpy\n",
    "#float point number b/w 0 and 1\n",
    "random_number=np.random.rand()\n",
    "print(random_number)\n"
   ]
  },
  {
   "cell_type": "code",
   "execution_count": 189,
   "id": "695bba43-666d-44dc-80f1-167387500ae0",
   "metadata": {},
   "outputs": [
    {
     "name": "stdout",
     "output_type": "stream",
     "text": [
      "1D random integer array:\n",
      " [0 7 2 3]\n"
     ]
    }
   ],
   "source": [
    "#generate 1D array of 5 random integers b/w 0 and 9\n",
    "integer_array=np.random.randint(0,10,4)\n",
    "print(\"1D random integer array:\\n\",integer_array)"
   ]
  },
  {
   "cell_type": "code",
   "execution_count": 198,
   "id": "5a05c795-a523-4ef6-97c8-6938b2ff953a",
   "metadata": {},
   "outputs": [
    {
     "name": "stdout",
     "output_type": "stream",
     "text": [
      "\n",
      "1D random float_array:\n",
      " [0.92771357 0.38659638 0.46212547 0.57862899 0.1139206 ]\n"
     ]
    }
   ],
   "source": [
    "#generate 1D array of 5 random numbers b/w 0 and 1\n",
    "float_array=np.random.rand(5)\n",
    "print(\"\\n1D random float_array:\\n\",float_array)"
   ]
  },
  {
   "cell_type": "code",
   "execution_count": 204,
   "id": "ebc64370-6027-4ef2-81de-2fd53e861c58",
   "metadata": {},
   "outputs": [
    {
     "name": "stdout",
     "output_type": "stream",
     "text": [
      "\n",
      "2D random integer array:\n",
      " [[8 6 5 0]\n",
      " [0 5 1 3]\n",
      " [2 3 1 0]]\n"
     ]
    }
   ],
   "source": [
    "#generate 2D array of shape (3,4) with random integers\n",
    "result=np.random.randint(0,10,(3,4))\n",
    "print(\"\\n2D random integer array:\\n\",result)"
   ]
  },
  {
   "cell_type": "code",
   "execution_count": 210,
   "id": "3ada55e0-8b79-494d-bf85-cd6fe27745b5",
   "metadata": {},
   "outputs": [
    {
     "name": "stdout",
     "output_type": "stream",
     "text": [
      "[1 2 3 4 5]\n",
      "3\n"
     ]
    }
   ],
   "source": [
    "#create an array of integers from 1 to 5\n",
    "array1=np.array([1,2,3,4,5])\n",
    "print(array1)\n",
    "#choose a random number from array1\n",
    "random_choice=np.random.choice(array1)\n",
    "print(random_choice)\n"
   ]
  },
  {
   "cell_type": "code",
   "execution_count": 218,
   "id": "addb128f-69f8-4985-bb03-8ab9e7bc4433",
   "metadata": {},
   "outputs": [],
   "source": [
    "import numpy as np\n",
    "from numpy.random import randint as ri\n"
   ]
  },
  {
   "cell_type": "code",
   "execution_count": 220,
   "id": "6dc80edf-bb2e-4bdb-8ce0-b142b5e130ed",
   "metadata": {},
   "outputs": [
    {
     "data": {
      "text/plain": [
       "array([[ 9, 25, 68, 88, 80, 49],\n",
       "       [11, 95, 53, 99, 54, 67],\n",
       "       [99, 15, 35, 25, 16, 61],\n",
       "       [59, 17, 10, 94, 87,  3],\n",
       "       [28,  5, 32,  2, 14, 84]])"
      ]
     },
     "execution_count": 220,
     "metadata": {},
     "output_type": "execute_result"
    }
   ],
   "source": [
    "np.random.seed(100)\n",
    "ri(1,100,(5,6))"
   ]
  },
  {
   "cell_type": "code",
   "execution_count": 102,
   "id": "d85eac83-27be-4f33-b7a0-0b6ecff1c953",
   "metadata": {},
   "outputs": [],
   "source": [
    "#numpy complete!"
   ]
  },
  {
   "cell_type": "code",
   "execution_count": null,
   "id": "461d3a2d-d585-4861-9608-7cdc28fb0f5e",
   "metadata": {},
   "outputs": [],
   "source": []
  },
  {
   "cell_type": "code",
   "execution_count": null,
   "id": "db060824-b1ba-48f1-922b-48b00856bb94",
   "metadata": {},
   "outputs": [],
   "source": []
  }
 ],
 "metadata": {
  "kernelspec": {
   "display_name": "Python 3 (ipykernel)",
   "language": "python",
   "name": "python3"
  },
  "language_info": {
   "codemirror_mode": {
    "name": "ipython",
    "version": 3
   },
   "file_extension": ".py",
   "mimetype": "text/x-python",
   "name": "python",
   "nbconvert_exporter": "python",
   "pygments_lexer": "ipython3",
   "version": "3.11.7"
  }
 },
 "nbformat": 4,
 "nbformat_minor": 5
}
